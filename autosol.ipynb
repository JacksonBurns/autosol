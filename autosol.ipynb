{
 "cells": [
  {
   "cell_type": "code",
   "execution_count": null,
   "metadata": {},
   "outputs": [],
   "source": [
    "from pathlib import Path\n",
    "\n",
    "from autogluon.tabular import TabularDataset, TabularPredictor\n",
    "from mordred import Calculator, descriptors\n",
    "import pandas as pd\n",
    "from rdkit.Chem import MolFromSmiles"
   ]
  },
  {
   "cell_type": "code",
   "execution_count": 2,
   "metadata": {},
   "outputs": [],
   "source": [
    "data_dir = Path(\"data\")\n",
    "data_dir.mkdir(exist_ok=True)"
   ]
  },
  {
   "cell_type": "code",
   "execution_count": 3,
   "metadata": {},
   "outputs": [],
   "source": [
    "calc = Calculator(descriptors, ignore_3D=True)"
   ]
  },
  {
   "cell_type": "code",
   "execution_count": null,
   "metadata": {},
   "outputs": [],
   "source": [
    "train_file = data_dir / \"train.parquet\"\n",
    "if not train_file.exists():\n",
    "    train_data = pd.read_csv(data_dir / \"AqSolDBc.csv\")\n",
    "    train_data[\"rdkit_mol\"] = train_data[\"SmilesCurated\"].apply(MolFromSmiles)\n",
    "    train_data = train_data.dropna(axis=0, subset=[\"rdkit_mol\"])\n",
    "    train_descs: pd.DataFrame = calc.pandas(train_data[\"rdkit_mol\"]).fill_missing()\n",
    "    train_df = pd.concat((train_data[[\"ExperimentalLogS\"]], train_descs), axis=1)\n",
    "    train_df.to_parquet(train_file)\n",
    "else:\n",
    "    train_df = pd.read_parquet(train_file)"
   ]
  },
  {
   "cell_type": "code",
   "execution_count": null,
   "metadata": {},
   "outputs": [],
   "source": [
    "test_file = data_dir / \"test.parquet\"\n",
    "if not test_file.exists():\n",
    "    test_data = pd.read_csv(data_dir / \"OChemUnseen.csv\")\n",
    "    test_data[\"rdkit_mol\"] = test_data[\"SMILES\"].apply(MolFromSmiles)\n",
    "    test_data = test_data.dropna(axis=0, subset=[\"rdkit_mol\"])\n",
    "    test_descs: pd.DataFrame = calc.pandas(test_data[\"rdkit_mol\"]).fill_missing()\n",
    "    test_df = pd.concat((test_data[[\"LogS\"]], test_descs), axis=1)\n",
    "    test_df.to_parquet(test_file)\n",
    "else:\n",
    "    test_df = pd.read_parquet(test_file)"
   ]
  },
  {
   "cell_type": "code",
   "execution_count": 21,
   "metadata": {},
   "outputs": [],
   "source": [
    "train_data = TabularDataset(train_df)\n",
    "test_data = TabularDataset(test_df)"
   ]
  },
  {
   "cell_type": "code",
   "execution_count": null,
   "metadata": {},
   "outputs": [],
   "source": [
    "predictor = TabularPredictor(label=\"ExperimentalLogS\", log_to_file=True).fit(train_data, num_gpus=1)"
   ]
  },
  {
   "cell_type": "code",
   "execution_count": null,
   "metadata": {},
   "outputs": [],
   "source": [
    "predictor.evaluate(test_data)"
   ]
  }
 ],
 "metadata": {
  "kernelspec": {
   "display_name": ".venv",
   "language": "python",
   "name": "python3"
  },
  "language_info": {
   "codemirror_mode": {
    "name": "ipython",
    "version": 3
   },
   "file_extension": ".py",
   "mimetype": "text/x-python",
   "name": "python",
   "nbconvert_exporter": "python",
   "pygments_lexer": "ipython3",
   "version": "3.12.3"
  }
 },
 "nbformat": 4,
 "nbformat_minor": 2
}
